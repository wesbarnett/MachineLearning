{
 "cells": [
  {
   "cell_type": "markdown",
   "metadata": {},
   "source": [
    "# Logistic regression\n",
    "\n",
    "Copyright 2018 Wes Barnett\n",
    "\n",
    "Licensed under the Apache License, Version 2.0 (the \"License\"); you may not use this file except in compliance with the License. You may obtain a copy of the License at\n",
    "\n",
    "http://www.apache.org/licenses/LICENSE-2.0\n",
    "\n",
    "Unless required by applicable law or agreed to in writing, software distributed under the License is distributed on an \"AS IS\" BASIS, WITHOUT WARRANTIES OR CONDITIONS OF ANY KIND, either express or implied. See the License for the specific language governing permissions and limitations under the License."
   ]
  },
  {
   "cell_type": "code",
   "execution_count": 1,
   "metadata": {},
   "outputs": [],
   "source": [
    "import matplotlib.pyplot as plt\n",
    "import numpy as np\n",
    "import pandas as pd\n",
    "from scipy.optimize import minimize, fmin\n",
    "%matplotlib inline"
   ]
  },
  {
   "cell_type": "markdown",
   "metadata": {},
   "source": [
    "## 1 Logistic regression"
   ]
  },
  {
   "cell_type": "code",
   "execution_count": 2,
   "metadata": {},
   "outputs": [
    {
     "data": {
      "text/html": [
       "<div>\n",
       "<style scoped>\n",
       "    .dataframe tbody tr th:only-of-type {\n",
       "        vertical-align: middle;\n",
       "    }\n",
       "\n",
       "    .dataframe tbody tr th {\n",
       "        vertical-align: top;\n",
       "    }\n",
       "\n",
       "    .dataframe thead th {\n",
       "        text-align: right;\n",
       "    }\n",
       "</style>\n",
       "<table border=\"1\" class=\"dataframe\">\n",
       "  <thead>\n",
       "    <tr style=\"text-align: right;\">\n",
       "      <th></th>\n",
       "      <th>exam1</th>\n",
       "      <th>exam2</th>\n",
       "      <th>admitted</th>\n",
       "    </tr>\n",
       "  </thead>\n",
       "  <tbody>\n",
       "    <tr>\n",
       "      <th>0</th>\n",
       "      <td>34.623660</td>\n",
       "      <td>78.024693</td>\n",
       "      <td>0</td>\n",
       "    </tr>\n",
       "    <tr>\n",
       "      <th>1</th>\n",
       "      <td>30.286711</td>\n",
       "      <td>43.894998</td>\n",
       "      <td>0</td>\n",
       "    </tr>\n",
       "    <tr>\n",
       "      <th>2</th>\n",
       "      <td>35.847409</td>\n",
       "      <td>72.902198</td>\n",
       "      <td>0</td>\n",
       "    </tr>\n",
       "    <tr>\n",
       "      <th>3</th>\n",
       "      <td>60.182599</td>\n",
       "      <td>86.308552</td>\n",
       "      <td>1</td>\n",
       "    </tr>\n",
       "    <tr>\n",
       "      <th>4</th>\n",
       "      <td>79.032736</td>\n",
       "      <td>75.344376</td>\n",
       "      <td>1</td>\n",
       "    </tr>\n",
       "  </tbody>\n",
       "</table>\n",
       "</div>"
      ],
      "text/plain": [
       "       exam1      exam2  admitted\n",
       "0  34.623660  78.024693         0\n",
       "1  30.286711  43.894998         0\n",
       "2  35.847409  72.902198         0\n",
       "3  60.182599  86.308552         1\n",
       "4  79.032736  75.344376         1"
      ]
     },
     "execution_count": 2,
     "metadata": {},
     "output_type": "execute_result"
    }
   ],
   "source": [
    "df = pd.read_csv(\"ex2data1.txt\", header=None, names=[\"exam1\", \"exam2\", \"admitted\"])\n",
    "df.head()"
   ]
  },
  {
   "cell_type": "code",
   "execution_count": 3,
   "metadata": {},
   "outputs": [],
   "source": [
    "X = df.drop(\"admitted\", axis=1)\n",
    "y = df[\"admitted\"]\n",
    "m = len(y)"
   ]
  },
  {
   "cell_type": "markdown",
   "metadata": {},
   "source": [
    "## 1.1 Data visualization"
   ]
  },
  {
   "cell_type": "code",
   "execution_count": 4,
   "metadata": {},
   "outputs": [
    {
     "data": {
      "image/png": "[encoded data removed]",
      "text/plain": [
       "<Figure size 432x288 with 1 Axes>"
      ]
     },
     "metadata": {},
     "output_type": "display_data"
    }
   ],
   "source": [
    "plt.scatter(X[\"exam1\"][y == 1], X[\"exam2\"][y == 1], label=\"Admitted\", color=\"yellow\")\n",
    "plt.scatter(X[\"exam1\"][y == 0], X[\"exam2\"][y == 0], label=\"Not admitted\", color=\"purple\")\n",
    "plt.xlabel(\"Exam 1 score\")\n",
    "plt.ylabel(\"Exam 2 score\")\n",
    "plt.legend()\n",
    "plt.show()"
   ]
  },
  {
   "cell_type": "markdown",
   "metadata": {},
   "source": [
    "## 1.2 Implementation\n",
    "### 1.2.1 Sigmoid function"
   ]
  },
  {
   "cell_type": "code",
   "execution_count": 5,
   "metadata": {},
   "outputs": [],
   "source": [
    "def sigmoid(z):\n",
    "    return 1. / (1. + np.exp(-z))"
   ]
  },
  {
   "cell_type": "code",
   "execution_count": 6,
   "metadata": {},
   "outputs": [
    {
     "data": {
      "image/png": "[encoded data removed]",
      "text/plain": [
       "<Figure size 432x288 with 1 Axes>"
      ]
     },
     "metadata": {},
     "output_type": "display_data"
    }
   ],
   "source": [
    "sigmoid_x = np.arange(-10, 11)\n",
    "plt.plot(sigmoid_x, sigmoid(sigmoid_x))\n",
    "plt.show()"
   ]
  },
  {
   "cell_type": "markdown",
   "metadata": {},
   "source": [
    "### 1.2.2 Cost function and gradient\n",
    "\n",
    "$J(\\theta) = \\frac{1}{m}\\sum_{i=1}^{m} \\left [ -y^{(i)}\\log{(h_{\\theta}(x^{(i)}))} - (1 - y^{(i)}) \\log{(1 - h_{\\theta}(x^{(i)}))} \\right ]$\n",
    "\n",
    "$\\frac{\\delta J(\\theta)}{\\delta \\theta_{j}} = \\frac{1}{m} \\sum^{m}_{i=1} \\left ( h_{\\theta} (x^{(i)}) - y^{(i)} \\right )x_{j}^{(i)}$\n",
    "\n",
    "$h_{\\theta}(x) = g(\\theta^{T}x)$\n",
    "\n",
    "$g(z) = \\frac{1}{1 + e^{-z}}$"
   ]
  },
  {
   "cell_type": "code",
   "execution_count": 7,
   "metadata": {},
   "outputs": [],
   "source": [
    "def costFunction(theta, X, y):\n",
    "    h = np.transpose(sigmoid(np.matmul(X, theta)))\n",
    "    J = np.sum(-y * np.log(h) - (1-y)*np.log(1-h))\n",
    "    J /= len(y) \n",
    "    return J\n",
    "    \n",
    "def gradFunction(theta, X, y):\n",
    "    h = sigmoid(np.matmul(X, theta))\n",
    "    grad = np.matmul(h-y, X)\n",
    "    grad /= len(y)  \n",
    "    return grad"
   ]
  },
  {
   "cell_type": "code",
   "execution_count": 8,
   "metadata": {},
   "outputs": [
    {
     "data": {
      "text/plain": [
       "(100, 3)"
      ]
     },
     "execution_count": 8,
     "metadata": {},
     "output_type": "execute_result"
    }
   ],
   "source": [
    "X = np.hstack((np.ones((m,1)), X.values))\n",
    "X.shape"
   ]
  },
  {
   "cell_type": "code",
   "execution_count": 9,
   "metadata": {},
   "outputs": [
    {
     "data": {
      "text/plain": [
       "array([0., 0., 0.])"
      ]
     },
     "execution_count": 9,
     "metadata": {},
     "output_type": "execute_result"
    }
   ],
   "source": [
    "initial_theta = np.zeros((X.shape[1]))\n",
    "initial_theta"
   ]
  },
  {
   "cell_type": "code",
   "execution_count": 10,
   "metadata": {},
   "outputs": [
    {
     "data": {
      "text/plain": [
       "0.6931471805599453"
      ]
     },
     "execution_count": 10,
     "metadata": {},
     "output_type": "execute_result"
    }
   ],
   "source": [
    "# Expected cost = 0.693\n",
    "costFunction(initial_theta, X, y)"
   ]
  },
  {
   "cell_type": "code",
   "execution_count": 11,
   "metadata": {},
   "outputs": [
    {
     "data": {
      "text/plain": [
       "array([ -0.1       , -12.00921659, -11.26284221])"
      ]
     },
     "execution_count": 11,
     "metadata": {},
     "output_type": "execute_result"
    }
   ],
   "source": [
    "# Expected gradient = -0.1000, -12.0092, -11.2628\n",
    "gradFunction(initial_theta, X, y)"
   ]
  },
  {
   "cell_type": "code",
   "execution_count": 12,
   "metadata": {},
   "outputs": [
    {
     "data": {
      "text/plain": [
       "0.21833019382659785"
      ]
     },
     "execution_count": 12,
     "metadata": {},
     "output_type": "execute_result"
    }
   ],
   "source": [
    "# Expected cost = 0.218\n",
    "test_theta = np.array([-24, 0.2, 0.2])\n",
    "costFunction(test_theta, X, y)"
   ]
  },
  {
   "cell_type": "code",
   "execution_count": 13,
   "metadata": {},
   "outputs": [
    {
     "data": {
      "text/plain": [
       "array([0.04290299, 2.56623412, 2.64679737])"
      ]
     },
     "execution_count": 13,
     "metadata": {},
     "output_type": "execute_result"
    }
   ],
   "source": [
    "# Expected gradient = 0.043, 2.566, 2.647\n",
    "gradFunction(test_theta, X, y)"
   ]
  },
  {
   "cell_type": "markdown",
   "metadata": {},
   "source": [
    "### 1.2.3 Optimizing using scipy"
   ]
  },
  {
   "cell_type": "code",
   "execution_count": 14,
   "metadata": {},
   "outputs": [
    {
     "name": "stdout",
     "output_type": "stream",
     "text": [
      "Optimization terminated successfully.\n",
      "         Current function value: 0.203498\n",
      "         Iterations: 210\n",
      "         Function evaluations: 398\n"
     ]
    }
   ],
   "source": [
    "x0 = initial_theta\n",
    "theta_opt = fmin(costFunction, x0, args=(X, y), xtol=1e-8)"
   ]
  },
  {
   "cell_type": "code",
   "execution_count": 15,
   "metadata": {},
   "outputs": [
    {
     "data": {
      "text/plain": [
       "array([-25.16133328,   0.20623171,   0.2014716 ])"
      ]
     },
     "execution_count": 15,
     "metadata": {},
     "output_type": "execute_result"
    }
   ],
   "source": [
    "# Expected theta: -25.161, 0.206, 0.201\n",
    "theta_opt"
   ]
  },
  {
   "cell_type": "markdown",
   "metadata": {},
   "source": [
    "### 1.2.4 Decision boundary\n",
    "\n",
    "$y = 1$ when $h_{\\theta} > 0.5$, or $z > 0$\n",
    "\n",
    "$y = 0$ when $h_{\\theta} < 0.5$, or $z < 0$\n",
    "\n",
    "So the boundary is defined when $z = \\theta^{T}X = 0$.\n",
    "\n",
    "$\\theta_{0} + \\theta_{1}x_{1} + \\theta_{2}x_{2} = 0$\n",
    "\n",
    "To plot the line, we get $x_{2}$, which is on the y-axis, in terms of $x_{1}$, which is on the x-axis.\n",
    "\n",
    "$x_{2} = -(\\theta_{0} + \\theta_{1}x_{1}) / \\theta_{2}$"
   ]
  },
  {
   "cell_type": "code",
   "execution_count": 16,
   "metadata": {},
   "outputs": [
    {
     "data": {
      "image/png": "[encoded data removed]",
      "text/plain": [
       "<Figure size 432x288 with 1 Axes>"
      ]
     },
     "metadata": {},
     "output_type": "display_data"
    }
   ],
   "source": [
    "plt.scatter(df[\"exam1\"][df[\"admitted\"] == 1], df[\"exam2\"][df[\"admitted\"] == 1], label=\"Admitted\", color=\"yellow\")\n",
    "plt.scatter(df[\"exam1\"][df[\"admitted\"] == 0], df[\"exam2\"][df[\"admitted\"] == 0], label=\"Not admitted\", color=\"purple\")\n",
    "plt.xlabel(\"Exam 1 score\")\n",
    "plt.ylabel(\"Exam 2 score\")\n",
    "boundary_x = np.arange(30,100)\n",
    "boundary_y = (-1./theta_opt[2])*(theta_opt[1]*boundary_x + theta_opt[0])\n",
    "plt.plot(boundary_x, boundary_y, color=\"black\")\n",
    "plt.legend()\n",
    "plt.show()"
   ]
  },
  {
   "cell_type": "markdown",
   "metadata": {},
   "source": [
    "## 2 Regularized logistic regression"
   ]
  },
  {
   "cell_type": "code",
   "execution_count": 17,
   "metadata": {},
   "outputs": [
    {
     "data": {
      "text/html": [
       "<div>\n",
       "<style scoped>\n",
       "    .dataframe tbody tr th:only-of-type {\n",
       "        vertical-align: middle;\n",
       "    }\n",
       "\n",
       "    .dataframe tbody tr th {\n",
       "        vertical-align: top;\n",
       "    }\n",
       "\n",
       "    .dataframe thead th {\n",
       "        text-align: right;\n",
       "    }\n",
       "</style>\n",
       "<table border=\"1\" class=\"dataframe\">\n",
       "  <thead>\n",
       "    <tr style=\"text-align: right;\">\n",
       "      <th></th>\n",
       "      <th>test1</th>\n",
       "      <th>test2</th>\n",
       "      <th>accepted</th>\n",
       "    </tr>\n",
       "  </thead>\n",
       "  <tbody>\n",
       "    <tr>\n",
       "      <th>0</th>\n",
       "      <td>0.051267</td>\n",
       "      <td>0.69956</td>\n",
       "      <td>1</td>\n",
       "    </tr>\n",
       "    <tr>\n",
       "      <th>1</th>\n",
       "      <td>-0.092742</td>\n",
       "      <td>0.68494</td>\n",
       "      <td>1</td>\n",
       "    </tr>\n",
       "    <tr>\n",
       "      <th>2</th>\n",
       "      <td>-0.213710</td>\n",
       "      <td>0.69225</td>\n",
       "      <td>1</td>\n",
       "    </tr>\n",
       "    <tr>\n",
       "      <th>3</th>\n",
       "      <td>-0.375000</td>\n",
       "      <td>0.50219</td>\n",
       "      <td>1</td>\n",
       "    </tr>\n",
       "    <tr>\n",
       "      <th>4</th>\n",
       "      <td>-0.513250</td>\n",
       "      <td>0.46564</td>\n",
       "      <td>1</td>\n",
       "    </tr>\n",
       "  </tbody>\n",
       "</table>\n",
       "</div>"
      ],
      "text/plain": [
       "      test1    test2  accepted\n",
       "0  0.051267  0.69956         1\n",
       "1 -0.092742  0.68494         1\n",
       "2 -0.213710  0.69225         1\n",
       "3 -0.375000  0.50219         1\n",
       "4 -0.513250  0.46564         1"
      ]
     },
     "execution_count": 17,
     "metadata": {},
     "output_type": "execute_result"
    }
   ],
   "source": [
    "df = pd.read_csv(\"ex2data2.txt\", header=None, names=[\"test1\", \"test2\", \"accepted\"])\n",
    "df.head()"
   ]
  },
  {
   "cell_type": "markdown",
   "metadata": {},
   "source": [
    "### 2.1 Data visualization"
   ]
  },
  {
   "cell_type": "code",
   "execution_count": 18,
   "metadata": {},
   "outputs": [
    {
     "data": {
      "image/png": "[encoded data removed]",
      "text/plain": [
       "<Figure size 432x288 with 1 Axes>"
      ]
     },
     "metadata": {},
     "output_type": "display_data"
    }
   ],
   "source": [
    "plt.scatter(df[\"test2\"][df[\"accepted\"] == 1], df[\"test1\"][df[\"accepted\"] == 1], label=\"Accepted\", color=\"yellow\")\n",
    "plt.scatter(df[\"test1\"][df[\"accepted\"] == 0], df[\"test2\"][df[\"accepted\"] == 0], label=\"Not accepted\", color=\"purple\")\n",
    "plt.xlabel(\"Microchip test 1\")\n",
    "plt.ylabel(\"Microchip test 2\")\n",
    "plt.legend()\n",
    "plt.show()"
   ]
  },
  {
   "cell_type": "code",
   "execution_count": 19,
   "metadata": {},
   "outputs": [
    {
     "data": {
      "text/plain": [
       "(118, 2)"
      ]
     },
     "execution_count": 19,
     "metadata": {},
     "output_type": "execute_result"
    }
   ],
   "source": [
    "X = df.drop(\"accepted\", axis=1)\n",
    "y = df[\"accepted\"]\n",
    "m = len(y)\n",
    "X = X.values\n",
    "X.shape"
   ]
  },
  {
   "cell_type": "markdown",
   "metadata": {},
   "source": [
    "### 2.2 Feature mapping"
   ]
  },
  {
   "cell_type": "code",
   "execution_count": 20,
   "metadata": {},
   "outputs": [],
   "source": [
    "def mapFeature(X1, X2):\n",
    "    # X1 and X2 must be the same size\n",
    "    degree = 6\n",
    "    if len(X1.shape) > 0:\n",
    "        X1size = X1.shape[0]\n",
    "    else:\n",
    "        X1size = 1\n",
    "    out = np.ones((X1size,1))\n",
    "    for i in range(1,degree+1):\n",
    "        for j in range(i+1):\n",
    "            out = np.hstack((out, (X1**(i-j) * X2**(j)).reshape(X1size,1)))\n",
    "    return out"
   ]
  },
  {
   "cell_type": "code",
   "execution_count": 21,
   "metadata": {},
   "outputs": [
    {
     "data": {
      "text/plain": [
       "(118, 28)"
      ]
     },
     "execution_count": 21,
     "metadata": {},
     "output_type": "execute_result"
    }
   ],
   "source": [
    "X = mapFeature(X[:,0], X[:,1])\n",
    "X.shape"
   ]
  },
  {
   "cell_type": "markdown",
   "metadata": {},
   "source": [
    "### 2.3 Cost function and gradient\n",
    "\n",
    "$J(\\theta) = \\frac{1}{m}\\sum_{i=1}^{m} \\left [ -y^{(i)}\\log{(h_{\\theta}(x^{(i)}))} - (1 - y^{(i)}) \\log{(1 - h_{\\theta}(x^{(i)}))} \\right ] + \\frac{\\lambda}{2m}\\sum_{j=1}^{n}\\theta_{j}^{2}$\n",
    "\n",
    "For $j = 0$:\n",
    "\n",
    "$\\frac{\\delta J(\\theta)}{\\delta \\theta_{j}} = \\frac{1}{m} \\sum^{m}_{i=1} \\left ( h_{\\theta} (x^{(i)} - y^{(i)} \\right )x_{j}^{(i)}$\n",
    "\n",
    "For $j \\ge 1$:\n",
    "\n",
    "$\\frac{\\delta J(\\theta)}{\\delta \\theta_{j}} = \\frac{1}{m} \\sum^{m}_{i=1} \\left ( h_{\\theta} (x^{(i)} - y^{(i)} \\right )x_{j}^{(i)} + \\frac{\\lambda}{m}\\theta_{j}$"
   ]
  },
  {
   "cell_type": "code",
   "execution_count": 22,
   "metadata": {},
   "outputs": [],
   "source": [
    "initial_theta = np.zeros(X.shape[1])"
   ]
  },
  {
   "cell_type": "code",
   "execution_count": 23,
   "metadata": {},
   "outputs": [],
   "source": [
    "lamb = 1"
   ]
  },
  {
   "cell_type": "code",
   "execution_count": 24,
   "metadata": {},
   "outputs": [],
   "source": [
    "def costFunctionReg(theta, X, y, lamb):\n",
    "    h = np.transpose(sigmoid(np.matmul(X, theta)))\n",
    "    J = np.sum(-y * np.log(h) - (1-y)*np.log(1-h))\n",
    "    J += lamb*0.5*np.sum(theta[1:]**2)\n",
    "    J /= len(y) \n",
    "    return J\n",
    "    \n",
    "def gradFunctionReg(theta, X, y, lamb):\n",
    "    h = sigmoid(np.matmul(X, theta))\n",
    "    grad = np.matmul(h-y, X)\n",
    "    grad[1:] += lamb*theta[1:]\n",
    "    grad /= len(y)  \n",
    "    return grad"
   ]
  },
  {
   "cell_type": "code",
   "execution_count": 25,
   "metadata": {},
   "outputs": [
    {
     "data": {
      "text/plain": [
       "0.6931471805599454"
      ]
     },
     "execution_count": 25,
     "metadata": {},
     "output_type": "execute_result"
    }
   ],
   "source": [
    "# Expect 0.693\n",
    "costFunctionReg(initial_theta, X, y, lamb)"
   ]
  },
  {
   "cell_type": "code",
   "execution_count": 26,
   "metadata": {},
   "outputs": [
    {
     "data": {
      "text/plain": [
       "array([8.47457627e-03, 1.87880932e-02, 7.77711864e-05, 5.03446395e-02,\n",
       "       1.15013308e-02, 3.76648474e-02, 1.83559872e-02, 7.32393391e-03,\n",
       "       8.19244468e-03, 2.34764889e-02, 3.93486234e-02, 2.23923907e-03,\n",
       "       1.28600503e-02, 3.09593720e-03, 3.93028171e-02, 1.99707467e-02,\n",
       "       4.32983232e-03, 3.38643902e-03, 5.83822078e-03, 4.47629067e-03,\n",
       "       3.10079849e-02, 3.10312442e-02, 1.09740238e-03, 6.31570797e-03,\n",
       "       4.08503006e-04, 7.26504316e-03, 1.37646175e-03, 3.87936363e-02])"
      ]
     },
     "execution_count": 26,
     "metadata": {},
     "output_type": "execute_result"
    }
   ],
   "source": [
    "# Expect first five values: 0.0085, 0.0188, 0.0001, 0.0503, 0.0115\n",
    "gradFunctionReg(initial_theta, X, y, lamb)"
   ]
  },
  {
   "cell_type": "code",
   "execution_count": 27,
   "metadata": {},
   "outputs": [
    {
     "data": {
      "text/plain": [
       "3.16450933161501"
      ]
     },
     "execution_count": 27,
     "metadata": {},
     "output_type": "execute_result"
    }
   ],
   "source": [
    "# Expected cost: 3.16\n",
    "test_theta = np.ones(X.shape[1])\n",
    "costFunctionReg(test_theta, X, y, 10)"
   ]
  },
  {
   "cell_type": "code",
   "execution_count": 28,
   "metadata": {},
   "outputs": [
    {
     "data": {
      "text/plain": [
       "array([0.34604507, 0.16135192, 0.19479576, 0.22686278, 0.09218568,\n",
       "       0.24438558, 0.14339212, 0.10844171, 0.10231439, 0.18346846,\n",
       "       0.17353003, 0.08725552, 0.11822776, 0.0858433 , 0.19994895,\n",
       "       0.13522653, 0.09497527, 0.09356441, 0.09979784, 0.09140157,\n",
       "       0.17485242, 0.14955442, 0.08678566, 0.09897686, 0.08531951,\n",
       "       0.10190666, 0.08450198, 0.18228323])"
      ]
     },
     "execution_count": 28,
     "metadata": {},
     "output_type": "execute_result"
    }
   ],
   "source": [
    "# Expected first five values: 0.346, 0.1614, 0.1948, 0.2269 0.0922\n",
    "gradFunctionReg(test_theta, X, y, 10)"
   ]
  },
  {
   "cell_type": "markdown",
   "metadata": {},
   "source": [
    "#### 2.3.1 Learning parameters using scipy optimize"
   ]
  },
  {
   "cell_type": "code",
   "execution_count": 29,
   "metadata": {},
   "outputs": [],
   "source": [
    "initial_theta = np.zeros(X.shape[1])\n",
    "x0 = initial_theta\n",
    "lamb = 1.\n",
    "theta_opt = minimize(costFunctionReg, x0, jac=gradFunctionReg, method=\"BFGS\", \n",
    "                     args=(X, y, lamb), options={\"maxiter\": 400})"
   ]
  },
  {
   "cell_type": "code",
   "execution_count": 30,
   "metadata": {},
   "outputs": [
    {
     "data": {
      "text/plain": [
       "array([ 1.27268739,  0.62557016,  1.1809665 , -2.01919822, -0.91761468,\n",
       "       -1.43194199,  0.12375921, -0.36513086, -0.35703388, -0.17485805,\n",
       "       -1.45843772, -0.05129676, -0.61603963, -0.2746414 , -1.19282569,\n",
       "       -0.24270336, -0.20570022, -0.04499768, -0.27782709, -0.29525851,\n",
       "       -0.45613294, -1.04377851,  0.02762813, -0.29265642,  0.01543393,\n",
       "       -0.32759318, -0.14389199, -0.92460119])"
      ]
     },
     "execution_count": 30,
     "metadata": {},
     "output_type": "execute_result"
    }
   ],
   "source": [
    "theta_opt.x"
   ]
  },
  {
   "cell_type": "markdown",
   "metadata": {},
   "source": [
    "### 2.4 Plotting the decision boundary\n",
    "\n",
    "For this decision boundary, since it is much more complex than the linear case, we create a grid of values where we calculate $\\theta^{T}X$ and plot the contour where this 0."
   ]
  },
  {
   "cell_type": "code",
   "execution_count": 31,
   "metadata": {},
   "outputs": [],
   "source": [
    "def plotDecisionBoundary(df, theta):\n",
    "    plt.scatter(df[\"test2\"][df[\"accepted\"] == 1], df[\"test1\"][df[\"accepted\"] == 1], label=\"Accepted\", color=\"yellow\")\n",
    "    plt.scatter(df[\"test1\"][df[\"accepted\"] == 0], df[\"test2\"][df[\"accepted\"] == 0], label=\"Not accepted\", color=\"purple\")\n",
    "    plt.xlabel(\"Microchip test 1\")\n",
    "    plt.ylabel(\"Microchip test 2\")\n",
    "\n",
    "    u = np.linspace(-1, 1.5, 50)\n",
    "    v = np.linspace(-1, 1.5, 50)\n",
    "    z = np.zeros((len(u), len(v)))\n",
    "\n",
    "    for i in range(len(u)):\n",
    "        for j in range(len(v)):\n",
    "            z[i, j] = np.matmul(mapFeature(u[i], u[j]), theta)\n",
    "\n",
    "    z = np.transpose(z)\n",
    "    plt.contour(u, v, z, [0])\n",
    "    plt.legend()\n",
    "    plt.show()"
   ]
  },
  {
   "cell_type": "markdown",
   "metadata": {},
   "source": [
    "### 2.5 Tuning the regularization parameter"
   ]
  },
  {
   "cell_type": "code",
   "execution_count": 32,
   "metadata": {},
   "outputs": [
    {
     "data": {
      "image/png": "[encoded data removed]",
      "text/plain": [
       "<Figure size 432x288 with 1 Axes>"
      ]
     },
     "metadata": {},
     "output_type": "display_data"
    }
   ],
   "source": [
    "plotDecisionBoundary(df, theta_opt.x)"
   ]
  },
  {
   "cell_type": "markdown",
   "metadata": {},
   "source": [
    "We predict a acceptance ($y=1$ or $y=0$) by calculating $h_{\\theta}(x)$ and then rounding to 0 or 1 based on that value."
   ]
  },
  {
   "cell_type": "code",
   "execution_count": 33,
   "metadata": {},
   "outputs": [],
   "source": [
    "def predict(theta, X):\n",
    "    return np.round(sigmoid(np.matmul(X,theta)))"
   ]
  },
  {
   "cell_type": "code",
   "execution_count": 34,
   "metadata": {},
   "outputs": [],
   "source": [
    "p = predict(theta_opt.x, X)"
   ]
  },
  {
   "cell_type": "markdown",
   "metadata": {},
   "source": [
    "Here we define the training accuracy to be average number of predictions that were correct."
   ]
  },
  {
   "cell_type": "code",
   "execution_count": 35,
   "metadata": {},
   "outputs": [
    {
     "data": {
      "text/plain": [
       "83.05084745762711"
      ]
     },
     "execution_count": 35,
     "metadata": {},
     "output_type": "execute_result"
    }
   ],
   "source": [
    "# Training accuracy - should be 83.1\n",
    "np.mean(p == y) * 100"
   ]
  },
  {
   "cell_type": "code",
   "execution_count": 36,
   "metadata": {},
   "outputs": [],
   "source": [
    "# Overfitting by setting regularization parameter to 0\n",
    "x0 = np.zeros(X.shape[1])\n",
    "lamb = 0.\n",
    "theta_opt = minimize(costFunctionReg, x0, jac=gradFunctionReg, method=\"BFGS\", \n",
    "                     args=(X, y, lamb), options={\"maxiter\": 400})"
   ]
  },
  {
   "cell_type": "code",
   "execution_count": 37,
   "metadata": {},
   "outputs": [
    {
     "data": {
      "image/png": "[encoded data removed]",
      "text/plain": [
       "<Figure size 432x288 with 1 Axes>"
      ]
     },
     "metadata": {},
     "output_type": "display_data"
    }
   ],
   "source": [
    "plotDecisionBoundary(df, theta_opt.x)"
   ]
  },
  {
   "cell_type": "code",
   "execution_count": 38,
   "metadata": {},
   "outputs": [],
   "source": [
    "# Underfitting - too much regularization\n",
    "x0 = np.zeros(X.shape[1])\n",
    "lamb = 100.\n",
    "theta_opt = minimize(costFunctionReg, x0, method=\"BFGS\", jac=gradFunctionReg,\n",
    "                     args=(X, y, lamb), options={\"maxiter\": 400})"
   ]
  },
  {
   "cell_type": "code",
   "execution_count": 39,
   "metadata": {},
   "outputs": [
    {
     "data": {
      "image/png": "[encoded data removed]",
      "text/plain": [
       "<Figure size 432x288 with 1 Axes>"
      ]
     },
     "metadata": {},
     "output_type": "display_data"
    }
   ],
   "source": [
    "plotDecisionBoundary(df, theta_opt.x)"
   ]
  },
  {
   "cell_type": "markdown",
   "metadata": {},
   "source": [
    "## 3 Scikit-learn"
   ]
  },
  {
   "cell_type": "code",
   "execution_count": 40,
   "metadata": {},
   "outputs": [],
   "source": [
    "from sklearn.linear_model import LogisticRegression\n",
    "from sklearn.preprocessing import PolynomialFeatures\n",
    "from sklearn.pipeline import Pipeline"
   ]
  },
  {
   "cell_type": "code",
   "execution_count": 41,
   "metadata": {},
   "outputs": [],
   "source": [
    "df = pd.read_csv(\"ex2data1.txt\", header=None, names=['exam1', 'exam2', 'admitted'])\n",
    "X = df.drop('admitted', axis=1)\n",
    "y = df['admitted']"
   ]
  },
  {
   "cell_type": "code",
   "execution_count": 42,
   "metadata": {},
   "outputs": [
    {
     "data": {
      "text/plain": [
       "LogisticRegression(C=1000000000000.0, class_weight=None, dual=False,\n",
       "          fit_intercept=True, intercept_scaling=1, max_iter=100,\n",
       "          multi_class='ovr', n_jobs=1, penalty='l2', random_state=None,\n",
       "          solver='liblinear', tol=0.0001, verbose=0, warm_start=False)"
      ]
     },
     "execution_count": 42,
     "metadata": {},
     "output_type": "execute_result"
    }
   ],
   "source": [
    "# Higher C means lower regularization - to compare with above we need to turn off\n",
    "lr = LogisticRegression(C=1e12)\n",
    "lr.fit(X,y)"
   ]
  },
  {
   "cell_type": "code",
   "execution_count": 43,
   "metadata": {},
   "outputs": [
    {
     "data": {
      "text/plain": [
       "(array([-24.95604647]), array([[0.20459008, 0.19981009]]))"
      ]
     },
     "execution_count": 43,
     "metadata": {},
     "output_type": "execute_result"
    }
   ],
   "source": [
    "# Previous theta: -25.161, 0.206, 0.201\n",
    "lr.intercept_, lr.coef_"
   ]
  },
  {
   "cell_type": "code",
   "execution_count": 44,
   "metadata": {},
   "outputs": [],
   "source": [
    "def plot_2d_classification(classifier, X, polyfeatures=False):\n",
    "    eps = X.std() / 2.\n",
    "    ax = plt.gca()\n",
    "    x_min, x_max = X[:,0].min() - eps, X[:,0].max() + eps\n",
    "    y_min, y_max = X[:,1].min() - eps, X[:,1].max() + eps\n",
    "    xx = np.linspace(x_min, x_max, 1000)\n",
    "    yy = np.linspace(y_min, y_max, 1000)\n",
    "    X1, X2 = np.meshgrid(xx, yy)\n",
    "    X_grid = np.c_[X1.ravel(), X2.ravel()]\n",
    "    decision_values = classifier.predict(X_grid)\n",
    "    ax.imshow(decision_values.reshape(X1.shape), extent=(x_min, x_max, y_min, y_max),\n",
    "              aspect='auto', origin='lower', alpha=0.5)\n",
    "    ax.set_xlim(x_min, x_max)\n",
    "    ax.set_ylim(y_min, y_max)"
   ]
  },
  {
   "cell_type": "code",
   "execution_count": 45,
   "metadata": {},
   "outputs": [
    {
     "data": {
      "image/png": "[encoded data removed]",
      "text/plain": [
       "<Figure size 432x288 with 1 Axes>"
      ]
     },
     "metadata": {},
     "output_type": "display_data"
    }
   ],
   "source": [
    "plot_2d_classification(lr, X.values)\n",
    "plt.scatter(df[\"exam1\"][df[\"admitted\"] == 1], df[\"exam2\"][df[\"admitted\"] == 1], label=\"Admitted\", color=\"yellow\")\n",
    "plt.scatter(df[\"exam1\"][df[\"admitted\"] == 0], df[\"exam2\"][df[\"admitted\"] == 0], label=\"Not admitted\", color=\"purple\")\n",
    "plt.xlabel(\"Exam 1 score\")\n",
    "plt.ylabel(\"Exam 2 score\")\n",
    "plt.legend()\n",
    "plt.show()"
   ]
  },
  {
   "cell_type": "markdown",
   "metadata": {},
   "source": [
    "### 3.1 Feature mapping and regularization"
   ]
  },
  {
   "cell_type": "code",
   "execution_count": 46,
   "metadata": {},
   "outputs": [],
   "source": [
    "df = pd.read_csv(\"ex2data2.txt\", header=None, names=[\"test1\", \"test2\", \"accepted\"])"
   ]
  },
  {
   "cell_type": "code",
   "execution_count": 47,
   "metadata": {},
   "outputs": [],
   "source": [
    "X = df.drop(\"accepted\", axis=1)\n",
    "y = df[\"accepted\"]\n",
    "pipe = Pipeline(steps=[('pf', PolynomialFeatures(degree=6)),\n",
    "                       ('lr', LogisticRegression())])"
   ]
  },
  {
   "cell_type": "code",
   "execution_count": 48,
   "metadata": {},
   "outputs": [
    {
     "data": {
      "text/plain": [
       "Pipeline(memory=None,\n",
       "     steps=[('pf', PolynomialFeatures(degree=6, include_bias=True, interaction_only=False)), ('lr', LogisticRegression(C=1.0, class_weight=None, dual=False, fit_intercept=True,\n",
       "          intercept_scaling=1, max_iter=100, multi_class='ovr', n_jobs=1,\n",
       "          penalty='l2', random_state=None, solver='liblinear', tol=0.0001,\n",
       "          verbose=0, warm_start=False))])"
      ]
     },
     "execution_count": 48,
     "metadata": {},
     "output_type": "execute_result"
    }
   ],
   "source": [
    "pipe.fit(X, y)"
   ]
  },
  {
   "cell_type": "code",
   "execution_count": 49,
   "metadata": {},
   "outputs": [
    {
     "data": {
      "text/plain": [
       "array([[ 0.60181257,  0.61262932,  1.17369724, -1.94159987, -0.91652206,\n",
       "        -1.34600069,  0.12538359, -0.3671774 , -0.35087379, -0.17439841,\n",
       "        -1.43997026, -0.04973447, -0.6106624 , -0.27187562, -1.17708203,\n",
       "        -0.24264323, -0.2065488 , -0.04393776, -0.27907087, -0.2909125 ,\n",
       "        -0.46305003, -1.03941697,  0.02853522, -0.29251337,  0.01648987,\n",
       "        -0.32818075, -0.14074991, -0.92845357]])"
      ]
     },
     "execution_count": 49,
     "metadata": {},
     "output_type": "execute_result"
    }
   ],
   "source": [
    "pipe.named_steps['lr'].coef_"
   ]
  },
  {
   "cell_type": "code",
   "execution_count": 50,
   "metadata": {},
   "outputs": [
    {
     "data": {
      "image/png": "[encoded data removed]",
      "text/plain": [
       "<Figure size 432x288 with 1 Axes>"
      ]
     },
     "metadata": {},
     "output_type": "display_data"
    }
   ],
   "source": [
    "plot_2d_classification(pipe, X.values, polyfeatures=True)\n",
    "plt.scatter(df[\"test1\"][df[\"accepted\"] == 1], df[\"test2\"][df[\"accepted\"] == 1], label=\"Accepted\", color=\"yellow\")\n",
    "plt.scatter(df[\"test1\"][df[\"accepted\"] == 0], df[\"test2\"][df[\"accepted\"] == 0], label=\"Not accepted\", color=\"purple\")\n",
    "plt.xlabel(\"Test 1 score\")\n",
    "plt.ylabel(\"Test 2 score\")\n",
    "plt.legend()\n",
    "plt.show()"
   ]
  },
  {
   "cell_type": "code",
   "execution_count": 51,
   "metadata": {},
   "outputs": [
    {
     "data": {
      "image/png": "[encoded data removed]",
      "text/plain": [
       "<Figure size 432x288 with 1 Axes>"
      ]
     },
     "metadata": {},
     "output_type": "display_data"
    }
   ],
   "source": [
    "# Larger C values means lower regularization\n",
    "pipe = Pipeline(steps=[('pf', PolynomialFeatures(degree=6)),\n",
    "                       ('lr', LogisticRegression(C=1e9))])\n",
    "pipe.fit(X, y)\n",
    "plot_2d_classification(pipe, X.values, polyfeatures=True)\n",
    "plt.scatter(df[\"test1\"][df[\"accepted\"] == 1], df[\"test2\"][df[\"accepted\"] == 1], label=\"Accepted\", color=\"yellow\")\n",
    "plt.scatter(df[\"test1\"][df[\"accepted\"] == 0], df[\"test2\"][df[\"accepted\"] == 0], label=\"Not accepted\", color=\"purple\")\n",
    "plt.xlabel(\"Test 1 score\")\n",
    "plt.ylabel(\"Test 2 score\")\n",
    "plt.legend()\n",
    "plt.show()"
   ]
  },
  {
   "cell_type": "code",
   "execution_count": 52,
   "metadata": {},
   "outputs": [
    {
     "data": {
      "image/png": "[encoded data removed]",
      "text/plain": [
       "<Figure size 432x288 with 1 Axes>"
      ]
     },
     "metadata": {},
     "output_type": "display_data"
    }
   ],
   "source": [
    "pipe = Pipeline(steps=[('pf', PolynomialFeatures(degree=6)),\n",
    "                       ('lr', LogisticRegression(C=5e-2))])\n",
    "pipe.fit(X, y)\n",
    "plot_2d_classification(pipe, X.values, polyfeatures=True)\n",
    "plt.scatter(df[\"test1\"][df[\"accepted\"] == 1], df[\"test2\"][df[\"accepted\"] == 1], label=\"Accepted\", color=\"yellow\")\n",
    "plt.scatter(df[\"test1\"][df[\"accepted\"] == 0], df[\"test2\"][df[\"accepted\"] == 0], label=\"Not accepted\", color=\"purple\")\n",
    "plt.xlabel(\"Test 1 score\")\n",
    "plt.ylabel(\"Test 2 score\")\n",
    "plt.legend()\n",
    "plt.show()"
   ]
  }
 ],
 "metadata": {
  "kernelspec": {
   "display_name": "Python 3",
   "language": "python",
   "name": "python3"
  },
  "language_info": {
   "codemirror_mode": {
    "name": "ipython",
    "version": 3
   },
   "file_extension": ".py",
   "mimetype": "text/x-python",
   "name": "python",
   "nbconvert_exporter": "python",
   "pygments_lexer": "ipython3",
   "version": "3.6.6"
  }
 },
 "nbformat": 4,
 "nbformat_minor": 2
}
