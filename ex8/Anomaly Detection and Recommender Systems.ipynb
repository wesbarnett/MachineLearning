{
 "cells": [
  {
   "cell_type": "markdown",
   "metadata": {},
   "source": [
    "# Anomaly Detection and Recommender Systems\n",
    "\n",
    "Copyright 2018 Wes Barnett\n",
    "\n",
    "Licensed under the Apache License, Version 2.0 (the \"License\"); you may not use this file except in compliance with the License. You may obtain a copy of the License at\n",
    "\n",
    "    http://www.apache.org/licenses/LICENSE-2.0\n",
    "\n",
    "Unless required by applicable law or agreed to in writing, software distributed under the License is distributed on an \"AS IS\" BASIS, WITHOUT WARRANTIES OR CONDITIONS OF ANY KIND, either express or implied. See the License for the specific language governing permissions and limitations under the License."
   ]
  },
  {
   "cell_type": "code",
   "execution_count": 1,
   "metadata": {},
   "outputs": [],
   "source": [
    "import matplotlib.pyplot as plt\n",
    "import numpy as np\n",
    "import pandas as pd\n",
    "import scipy.io as sio\n",
    "%matplotlib inline"
   ]
  },
  {
   "cell_type": "markdown",
   "metadata": {},
   "source": [
    "## 1 Anomaly detection"
   ]
  },
  {
   "cell_type": "code",
   "execution_count": 2,
   "metadata": {},
   "outputs": [],
   "source": [
    "df = sio.loadmat('ex8data1.mat')\n",
    "X = df['X']\n",
    "X_val = df['Xval']\n",
    "y_val = df['yval'].ravel()"
   ]
  },
  {
   "cell_type": "code",
   "execution_count": 3,
   "metadata": {},
   "outputs": [
    {
     "data": {
      "image/png": "[encoded data removed]",
      "text/plain": [
       "<Figure size 432x288 with 1 Axes>"
      ]
     },
     "metadata": {},
     "output_type": "display_data"
    }
   ],
   "source": [
    "plt.plot(X[:,0], X[:,1], lw=0, marker='.')\n",
    "plt.xlim([0,30])\n",
    "plt.ylim([0,30])\n",
    "plt.xlabel(\"Latency (ms)\")\n",
    "plt.ylabel(\"Throughput (mb/s)\")\n",
    "plt.show()"
   ]
  },
  {
   "cell_type": "code",
   "execution_count": 4,
   "metadata": {},
   "outputs": [],
   "source": [
    "def estimateGaussian(X):\n",
    "    return np.mean(X, axis=0), np.var(X, axis=0)"
   ]
  },
  {
   "cell_type": "code",
   "execution_count": 5,
   "metadata": {},
   "outputs": [],
   "source": [
    "mu, sigma2 = estimateGaussian(X)"
   ]
  },
  {
   "cell_type": "code",
   "execution_count": 6,
   "metadata": {},
   "outputs": [],
   "source": [
    "from scipy.stats import multivariate_normal"
   ]
  },
  {
   "cell_type": "code",
   "execution_count": 7,
   "metadata": {},
   "outputs": [
    {
     "data": {
      "text/plain": [
       "(307, 2)"
      ]
     },
     "execution_count": 7,
     "metadata": {},
     "output_type": "execute_result"
    }
   ],
   "source": [
    "X.shape"
   ]
  },
  {
   "cell_type": "code",
   "execution_count": 8,
   "metadata": {},
   "outputs": [
    {
     "data": {
      "image/png": "[encoded data removed]",
      "text/plain": [
       "<Figure size 432x288 with 1 Axes>"
      ]
     },
     "metadata": {},
     "output_type": "display_data"
    }
   ],
   "source": [
    "x, y = np.mgrid[0:30:.1, 0:30:.1]\n",
    "pos = np.empty(x.shape + (2,))\n",
    "pos[:, :, 0] = x; pos[:, :, 1] = y\n",
    "rv = multivariate_normal(mu, sigma2)\n",
    "plt.contour(x, y, rv.pdf(pos))\n",
    "plt.plot(X[:,0], X[:,1], lw=0, marker='o', alpha=0.4, markeredgecolor='black')\n",
    "plt.show()"
   ]
  },
  {
   "cell_type": "code",
   "execution_count": 9,
   "metadata": {},
   "outputs": [],
   "source": [
    "p_val = rv.pdf(X_val)"
   ]
  },
  {
   "cell_type": "code",
   "execution_count": 10,
   "metadata": {},
   "outputs": [],
   "source": [
    "def selectThreshold(y_val, p_val):\n",
    "    bestF1 = 0.;\n",
    "    stepsize = (np.max(p_val) - np.min(y_val)) / 1000.0\n",
    "    for epsilon in np.arange(np.min(p_val), np.max(p_val), stepsize):\n",
    "        predictions = p_val < epsilon\n",
    "        tp = np.sum((y_val == 1) & (predictions == 1))\n",
    "        fp = np.sum((y_val == 1) & (predictions == 0))\n",
    "        fn = np.sum((y_val == 0) & (predictions == 1))\n",
    "        precision = tp / (tp + fp)\n",
    "        recall = tp / (tp + fn)\n",
    "        F1 = 2.0 * precision * recall / (precision + recall)\n",
    "        if F1 > bestF1:\n",
    "            bestF1 = F1\n",
    "            bestEpsilon = epsilon\n",
    "        \n",
    "            \n",
    "    return bestEpsilon, bestF1"
   ]
  },
  {
   "cell_type": "code",
   "execution_count": 11,
   "metadata": {},
   "outputs": [
    {
     "name": "stderr",
     "output_type": "stream",
     "text": [
      "/usr/lib/python3.6/site-packages/ipykernel_launcher.py:10: RuntimeWarning: invalid value encountered in long_scalars\n",
      "  # Remove the CWD from sys.path while we load stuff.\n"
     ]
    }
   ],
   "source": [
    "eps, F1 = selectThreshold(y_val, p_val)"
   ]
  },
  {
   "cell_type": "code",
   "execution_count": 12,
   "metadata": {},
   "outputs": [
    {
     "data": {
      "text/plain": [
       "(8.990852779269493e-05, 0.8750000000000001)"
      ]
     },
     "execution_count": 12,
     "metadata": {},
     "output_type": "execute_result"
    }
   ],
   "source": [
    "# expect eps = 8.99e-5, F1 = 0.875\n",
    "eps, F1"
   ]
  },
  {
   "cell_type": "code",
   "execution_count": 13,
   "metadata": {},
   "outputs": [],
   "source": [
    "outliers = np.argwhere(p_val < eps).ravel()"
   ]
  },
  {
   "cell_type": "code",
   "execution_count": 14,
   "metadata": {},
   "outputs": [
    {
     "data": {
      "text/plain": [
       "[<matplotlib.lines.Line2D at 0x7f256c93d978>]"
      ]
     },
     "execution_count": 14,
     "metadata": {},
     "output_type": "execute_result"
    },
    {
     "data": {
      "image/png": "[encoded data removed]",
      "text/plain": [
       "<Figure size 432x288 with 1 Axes>"
      ]
     },
     "metadata": {},
     "output_type": "display_data"
    }
   ],
   "source": [
    "plt.contour(x, y, rv.pdf(pos))\n",
    "plt.plot(X[:,0], X[:,1], lw=0, marker='o', alpha=0.4, markeredgecolor='black')\n",
    "plt.plot(X[outliers,0], X[outliers,1], marker='o', lw=0, ms=10, color='red')"
   ]
  },
  {
   "cell_type": "code",
   "execution_count": 15,
   "metadata": {},
   "outputs": [],
   "source": [
    "df = sio.loadmat('ex8data2.mat')\n",
    "X = df['X']\n",
    "X_val = df['Xval']\n",
    "y_val = df['yval'].ravel()"
   ]
  },
  {
   "cell_type": "code",
   "execution_count": 16,
   "metadata": {},
   "outputs": [],
   "source": [
    "mu, sigma2 = estimateGaussian(X)"
   ]
  },
  {
   "cell_type": "code",
   "execution_count": 17,
   "metadata": {},
   "outputs": [],
   "source": [
    "p_val = multivariate_normal(mu, sigma2).pdf(X_val)"
   ]
  },
  {
   "cell_type": "code",
   "execution_count": 18,
   "metadata": {},
   "outputs": [
    {
     "name": "stderr",
     "output_type": "stream",
     "text": [
      "/usr/lib/python3.6/site-packages/ipykernel_launcher.py:10: RuntimeWarning: invalid value encountered in long_scalars\n",
      "  # Remove the CWD from sys.path while we load stuff.\n"
     ]
    }
   ],
   "source": [
    "eps, F1 = selectThreshold(y_val, p_val)"
   ]
  },
  {
   "cell_type": "code",
   "execution_count": 19,
   "metadata": {},
   "outputs": [
    {
     "data": {
      "text/plain": [
       "(1.377228890820894e-18, 0.6153846153846154)"
      ]
     },
     "execution_count": 19,
     "metadata": {},
     "output_type": "execute_result"
    }
   ],
   "source": [
    "eps, F1"
   ]
  },
  {
   "cell_type": "code",
   "execution_count": 20,
   "metadata": {},
   "outputs": [
    {
     "name": "stdout",
     "output_type": "stream",
     "text": [
      "Outliers: [16]\n"
     ]
    }
   ],
   "source": [
    "print('Outliers: {0}'.format(np.sum(p_val < eps).ravel()))"
   ]
  },
  {
   "cell_type": "markdown",
   "metadata": {},
   "source": [
    "## 2 Recommender systems\n",
    "\n"
   ]
  },
  {
   "cell_type": "code",
   "execution_count": 21,
   "metadata": {},
   "outputs": [],
   "source": [
    "df = sio.loadmat('ex8_movies.mat')\n",
    "Y = df['Y']\n",
    "R = df['R']"
   ]
  },
  {
   "cell_type": "code",
   "execution_count": 22,
   "metadata": {},
   "outputs": [
    {
     "data": {
      "text/plain": [
       "(1682, 943)"
      ]
     },
     "execution_count": 22,
     "metadata": {},
     "output_type": "execute_result"
    }
   ],
   "source": [
    "Y.shape"
   ]
  },
  {
   "cell_type": "code",
   "execution_count": 23,
   "metadata": {},
   "outputs": [],
   "source": [
    "with open('movie_ids.txt') as f:\n",
    "    movieList = [line.strip('\\n') for line in f.readlines() ]"
   ]
  },
  {
   "cell_type": "code",
   "execution_count": 24,
   "metadata": {},
   "outputs": [
    {
     "data": {
      "text/plain": [
       "1682"
      ]
     },
     "execution_count": 24,
     "metadata": {},
     "output_type": "execute_result"
    }
   ],
   "source": [
    "len(movieList)"
   ]
  },
  {
   "cell_type": "code",
   "execution_count": 25,
   "metadata": {},
   "outputs": [],
   "source": [
    "# We're not using the R matrix - instead if a user hasn't rated a movie we will just have 'NaN' for that entry\n",
    "Y = pd.DataFrame(Y)\n",
    "Y = Y[pd.DataFrame(R) == 1]\n",
    "Y['movie'] = movieList\n",
    "Y.set_index('movie', inplace=True)"
   ]
  },
  {
   "cell_type": "code",
   "execution_count": 26,
   "metadata": {},
   "outputs": [
    {
     "data": {
      "text/plain": [
       "(1682, 943)"
      ]
     },
     "execution_count": 26,
     "metadata": {},
     "output_type": "execute_result"
    }
   ],
   "source": [
    "Y.shape"
   ]
  },
  {
   "cell_type": "code",
   "execution_count": 27,
   "metadata": {},
   "outputs": [
    {
     "data": {
      "text/html": [
       "<div>\n",
       "<style scoped>\n",
       "    .dataframe tbody tr th:only-of-type {\n",
       "        vertical-align: middle;\n",
       "    }\n",
       "\n",
       "    .dataframe tbody tr th {\n",
       "        vertical-align: top;\n",
       "    }\n",
       "\n",
       "    .dataframe thead th {\n",
       "        text-align: right;\n",
       "    }\n",
       "</style>\n",
       "<table border=\"1\" class=\"dataframe\">\n",
       "  <thead>\n",
       "    <tr style=\"text-align: right;\">\n",
       "      <th></th>\n",
       "      <th>0</th>\n",
       "      <th>1</th>\n",
       "      <th>2</th>\n",
       "      <th>3</th>\n",
       "      <th>4</th>\n",
       "      <th>5</th>\n",
       "      <th>6</th>\n",
       "      <th>7</th>\n",
       "      <th>8</th>\n",
       "      <th>9</th>\n",
       "      <th>...</th>\n",
       "      <th>933</th>\n",
       "      <th>934</th>\n",
       "      <th>935</th>\n",
       "      <th>936</th>\n",
       "      <th>937</th>\n",
       "      <th>938</th>\n",
       "      <th>939</th>\n",
       "      <th>940</th>\n",
       "      <th>941</th>\n",
       "      <th>942</th>\n",
       "    </tr>\n",
       "    <tr>\n",
       "      <th>movie</th>\n",
       "      <th></th>\n",
       "      <th></th>\n",
       "      <th></th>\n",
       "      <th></th>\n",
       "      <th></th>\n",
       "      <th></th>\n",
       "      <th></th>\n",
       "      <th></th>\n",
       "      <th></th>\n",
       "      <th></th>\n",
       "      <th></th>\n",
       "      <th></th>\n",
       "      <th></th>\n",
       "      <th></th>\n",
       "      <th></th>\n",
       "      <th></th>\n",
       "      <th></th>\n",
       "      <th></th>\n",
       "      <th></th>\n",
       "      <th></th>\n",
       "      <th></th>\n",
       "    </tr>\n",
       "  </thead>\n",
       "  <tbody>\n",
       "    <tr>\n",
       "      <th>Toy Story (1995)</th>\n",
       "      <td>5.0</td>\n",
       "      <td>4.0</td>\n",
       "      <td>NaN</td>\n",
       "      <td>NaN</td>\n",
       "      <td>4.0</td>\n",
       "      <td>4.0</td>\n",
       "      <td>NaN</td>\n",
       "      <td>NaN</td>\n",
       "      <td>NaN</td>\n",
       "      <td>4.0</td>\n",
       "      <td>...</td>\n",
       "      <td>2.0</td>\n",
       "      <td>3.0</td>\n",
       "      <td>4.0</td>\n",
       "      <td>NaN</td>\n",
       "      <td>4.0</td>\n",
       "      <td>NaN</td>\n",
       "      <td>NaN</td>\n",
       "      <td>5.0</td>\n",
       "      <td>NaN</td>\n",
       "      <td>NaN</td>\n",
       "    </tr>\n",
       "    <tr>\n",
       "      <th>GoldenEye (1995)</th>\n",
       "      <td>3.0</td>\n",
       "      <td>NaN</td>\n",
       "      <td>NaN</td>\n",
       "      <td>NaN</td>\n",
       "      <td>3.0</td>\n",
       "      <td>NaN</td>\n",
       "      <td>NaN</td>\n",
       "      <td>NaN</td>\n",
       "      <td>NaN</td>\n",
       "      <td>NaN</td>\n",
       "      <td>...</td>\n",
       "      <td>4.0</td>\n",
       "      <td>NaN</td>\n",
       "      <td>NaN</td>\n",
       "      <td>NaN</td>\n",
       "      <td>NaN</td>\n",
       "      <td>NaN</td>\n",
       "      <td>NaN</td>\n",
       "      <td>NaN</td>\n",
       "      <td>NaN</td>\n",
       "      <td>5.0</td>\n",
       "    </tr>\n",
       "    <tr>\n",
       "      <th>Four Rooms (1995)</th>\n",
       "      <td>4.0</td>\n",
       "      <td>NaN</td>\n",
       "      <td>NaN</td>\n",
       "      <td>NaN</td>\n",
       "      <td>NaN</td>\n",
       "      <td>NaN</td>\n",
       "      <td>NaN</td>\n",
       "      <td>NaN</td>\n",
       "      <td>NaN</td>\n",
       "      <td>NaN</td>\n",
       "      <td>...</td>\n",
       "      <td>NaN</td>\n",
       "      <td>NaN</td>\n",
       "      <td>4.0</td>\n",
       "      <td>NaN</td>\n",
       "      <td>NaN</td>\n",
       "      <td>NaN</td>\n",
       "      <td>NaN</td>\n",
       "      <td>NaN</td>\n",
       "      <td>NaN</td>\n",
       "      <td>NaN</td>\n",
       "    </tr>\n",
       "    <tr>\n",
       "      <th>Get Shorty (1995)</th>\n",
       "      <td>3.0</td>\n",
       "      <td>NaN</td>\n",
       "      <td>NaN</td>\n",
       "      <td>NaN</td>\n",
       "      <td>NaN</td>\n",
       "      <td>NaN</td>\n",
       "      <td>5.0</td>\n",
       "      <td>NaN</td>\n",
       "      <td>NaN</td>\n",
       "      <td>4.0</td>\n",
       "      <td>...</td>\n",
       "      <td>5.0</td>\n",
       "      <td>NaN</td>\n",
       "      <td>NaN</td>\n",
       "      <td>NaN</td>\n",
       "      <td>NaN</td>\n",
       "      <td>NaN</td>\n",
       "      <td>2.0</td>\n",
       "      <td>NaN</td>\n",
       "      <td>NaN</td>\n",
       "      <td>NaN</td>\n",
       "    </tr>\n",
       "    <tr>\n",
       "      <th>Copycat (1995)</th>\n",
       "      <td>3.0</td>\n",
       "      <td>NaN</td>\n",
       "      <td>NaN</td>\n",
       "      <td>NaN</td>\n",
       "      <td>NaN</td>\n",
       "      <td>NaN</td>\n",
       "      <td>NaN</td>\n",
       "      <td>NaN</td>\n",
       "      <td>NaN</td>\n",
       "      <td>NaN</td>\n",
       "      <td>...</td>\n",
       "      <td>NaN</td>\n",
       "      <td>NaN</td>\n",
       "      <td>NaN</td>\n",
       "      <td>NaN</td>\n",
       "      <td>NaN</td>\n",
       "      <td>NaN</td>\n",
       "      <td>NaN</td>\n",
       "      <td>NaN</td>\n",
       "      <td>NaN</td>\n",
       "      <td>NaN</td>\n",
       "    </tr>\n",
       "  </tbody>\n",
       "</table>\n",
       "<p>5 rows × 943 columns</p>\n",
       "</div>"
      ],
      "text/plain": [
       "                   0    1    2    3    4    5    6    7    8    9   ...   933  \\\n",
       "movie                                                               ...         \n",
       "Toy Story (1995)   5.0  4.0  NaN  NaN  4.0  4.0  NaN  NaN  NaN  4.0 ...   2.0   \n",
       "GoldenEye (1995)   3.0  NaN  NaN  NaN  3.0  NaN  NaN  NaN  NaN  NaN ...   4.0   \n",
       "Four Rooms (1995)  4.0  NaN  NaN  NaN  NaN  NaN  NaN  NaN  NaN  NaN ...   NaN   \n",
       "Get Shorty (1995)  3.0  NaN  NaN  NaN  NaN  NaN  5.0  NaN  NaN  4.0 ...   5.0   \n",
       "Copycat (1995)     3.0  NaN  NaN  NaN  NaN  NaN  NaN  NaN  NaN  NaN ...   NaN   \n",
       "\n",
       "                   934  935  936  937  938  939  940  941  942  \n",
       "movie                                                           \n",
       "Toy Story (1995)   3.0  4.0  NaN  4.0  NaN  NaN  5.0  NaN  NaN  \n",
       "GoldenEye (1995)   NaN  NaN  NaN  NaN  NaN  NaN  NaN  NaN  5.0  \n",
       "Four Rooms (1995)  NaN  4.0  NaN  NaN  NaN  NaN  NaN  NaN  NaN  \n",
       "Get Shorty (1995)  NaN  NaN  NaN  NaN  NaN  2.0  NaN  NaN  NaN  \n",
       "Copycat (1995)     NaN  NaN  NaN  NaN  NaN  NaN  NaN  NaN  NaN  \n",
       "\n",
       "[5 rows x 943 columns]"
      ]
     },
     "execution_count": 27,
     "metadata": {},
     "output_type": "execute_result"
    }
   ],
   "source": [
    "Y.head()"
   ]
  },
  {
   "cell_type": "markdown",
   "metadata": {},
   "source": [
    "Average rating for Toy Story"
   ]
  },
  {
   "cell_type": "code",
   "execution_count": 28,
   "metadata": {},
   "outputs": [
    {
     "data": {
      "text/plain": [
       "3.8783185840707963"
      ]
     },
     "execution_count": 28,
     "metadata": {},
     "output_type": "execute_result"
    }
   ],
   "source": [
    "Y.loc['Toy Story (1995)'].mean()"
   ]
  },
  {
   "cell_type": "code",
   "execution_count": 29,
   "metadata": {},
   "outputs": [
    {
     "data": {
      "image/png": "[encoded data removed]",
      "text/plain": [
       "<Figure size 432x288 with 1 Axes>"
      ]
     },
     "metadata": {},
     "output_type": "display_data"
    }
   ],
   "source": [
    "plt.imshow(Y, extent=[0, 1, 0, 1])\n",
    "plt.ylabel('Movies')\n",
    "plt.xlabel('Users')\n",
    "plt.show()"
   ]
  },
  {
   "cell_type": "code",
   "execution_count": 30,
   "metadata": {},
   "outputs": [],
   "source": [
    "df = sio.loadmat('ex8_movieParams.mat')\n",
    "X = df['X']\n",
    "Theta = df['Theta']\n",
    "num_users = df['num_users']\n",
    "num_movies = df['num_movies']\n",
    "num_features = df['num_features']\n",
    "\n",
    "# Data is reduced in the original course exercise\n",
    "num_users = 4\n",
    "num_movies = 5\n",
    "num_features = 3\n",
    "X = X[:num_movies,:num_features]\n",
    "Theta = Theta[:num_users,:num_features]\n",
    "Y_tmp = Y.iloc[:num_movies,:num_users]\n",
    "params = np.concatenate((X.ravel(), Theta.ravel()))"
   ]
  },
  {
   "cell_type": "code",
   "execution_count": 31,
   "metadata": {},
   "outputs": [
    {
     "data": {
      "text/html": [
       "<div>\n",
       "<style scoped>\n",
       "    .dataframe tbody tr th:only-of-type {\n",
       "        vertical-align: middle;\n",
       "    }\n",
       "\n",
       "    .dataframe tbody tr th {\n",
       "        vertical-align: top;\n",
       "    }\n",
       "\n",
       "    .dataframe thead th {\n",
       "        text-align: right;\n",
       "    }\n",
       "</style>\n",
       "<table border=\"1\" class=\"dataframe\">\n",
       "  <thead>\n",
       "    <tr style=\"text-align: right;\">\n",
       "      <th></th>\n",
       "      <th>0</th>\n",
       "      <th>1</th>\n",
       "      <th>2</th>\n",
       "      <th>3</th>\n",
       "    </tr>\n",
       "    <tr>\n",
       "      <th>movie</th>\n",
       "      <th></th>\n",
       "      <th></th>\n",
       "      <th></th>\n",
       "      <th></th>\n",
       "    </tr>\n",
       "  </thead>\n",
       "  <tbody>\n",
       "    <tr>\n",
       "      <th>Toy Story (1995)</th>\n",
       "      <td>5.0</td>\n",
       "      <td>4.0</td>\n",
       "      <td>NaN</td>\n",
       "      <td>NaN</td>\n",
       "    </tr>\n",
       "    <tr>\n",
       "      <th>GoldenEye (1995)</th>\n",
       "      <td>3.0</td>\n",
       "      <td>NaN</td>\n",
       "      <td>NaN</td>\n",
       "      <td>NaN</td>\n",
       "    </tr>\n",
       "    <tr>\n",
       "      <th>Four Rooms (1995)</th>\n",
       "      <td>4.0</td>\n",
       "      <td>NaN</td>\n",
       "      <td>NaN</td>\n",
       "      <td>NaN</td>\n",
       "    </tr>\n",
       "    <tr>\n",
       "      <th>Get Shorty (1995)</th>\n",
       "      <td>3.0</td>\n",
       "      <td>NaN</td>\n",
       "      <td>NaN</td>\n",
       "      <td>NaN</td>\n",
       "    </tr>\n",
       "    <tr>\n",
       "      <th>Copycat (1995)</th>\n",
       "      <td>3.0</td>\n",
       "      <td>NaN</td>\n",
       "      <td>NaN</td>\n",
       "      <td>NaN</td>\n",
       "    </tr>\n",
       "  </tbody>\n",
       "</table>\n",
       "</div>"
      ],
      "text/plain": [
       "                     0    1   2   3\n",
       "movie                              \n",
       "Toy Story (1995)   5.0  4.0 NaN NaN\n",
       "GoldenEye (1995)   3.0  NaN NaN NaN\n",
       "Four Rooms (1995)  4.0  NaN NaN NaN\n",
       "Get Shorty (1995)  3.0  NaN NaN NaN\n",
       "Copycat (1995)     3.0  NaN NaN NaN"
      ]
     },
     "execution_count": 31,
     "metadata": {},
     "output_type": "execute_result"
    }
   ],
   "source": [
    "Y_tmp"
   ]
  },
  {
   "cell_type": "markdown",
   "metadata": {},
   "source": [
    "$J(x^{(1)},...,x^{(n_{m})},\\theta^{(1)},...,\\theta^{(n_{u})}) = \\frac{1}{2} \\sum_{(i,j);r(i,j)=1} ( (\\theta^{(j)})^{T}x^{(i)}-y^{(i,j)})^{2} ) + ( \\frac{\\lambda}{2} \\sum_{j=1}^{n_{u}}\\sum_{k=1}^{n}(\\theta_{k}^{(j)})^{2}  ) + ( \\frac{\\lambda}{2} \\sum_{i=1}^{n_{m}}\\sum_{k=1}^{n}(x_{k}^{(i)})^{2}  )$"
   ]
  },
  {
   "cell_type": "code",
   "execution_count": 32,
   "metadata": {},
   "outputs": [],
   "source": [
    "def cofiCostFunc(params, Y, n0, n1, num_features, lamb):\n",
    "    X, Theta = np.split(params, [n0*num_features])\n",
    "    X = X.reshape(n0, -1)\n",
    "    Theta = Theta.reshape(n1, -1)\n",
    "    J = 0.5 * ((((np.matmul(Theta,X.T)).T - Y)**2).fillna(0).values.sum() + lamb*np.sum(Theta**2) + lamb*np.sum(X**2))\n",
    "    return J"
   ]
  },
  {
   "cell_type": "code",
   "execution_count": 33,
   "metadata": {},
   "outputs": [
    {
     "data": {
      "text/plain": [
       "22.22460372568567"
      ]
     },
     "execution_count": 33,
     "metadata": {},
     "output_type": "execute_result"
    }
   ],
   "source": [
    "# Expect about 22.22\n",
    "cofiCostFunc(params, Y_tmp, num_movies, num_users, num_features, 0)"
   ]
  },
  {
   "cell_type": "markdown",
   "metadata": {},
   "source": [
    "$\\frac{\\delta J}{\\delta x_{k}^{(i)}} = \\sum_{j:r(i,j)=1} ((\\theta^{(j)})^{T}x^{(i)}-y^{(i,j)})\\theta_{k}^{(j)} + \\lambda x_{k}^{(i)}$\n",
    "\n",
    "$\\frac{\\delta J}{\\delta \\theta_{k}^{(j)}} = \\sum_{i:r(i,j)=1} ((\\theta^{(j)})^{T}x^{(i)}-y^{(i,j)})\\theta_{k}^{(i)} + \\lambda \\theta_{k}^{(j)}$"
   ]
  },
  {
   "cell_type": "code",
   "execution_count": 34,
   "metadata": {},
   "outputs": [],
   "source": [
    "# Fully vectorized implementation\n",
    "def cofiGradFunc(params, Y, n0, n1, num_features, lamb):\n",
    "    X, Theta = np.split(params, [n0*num_features])\n",
    "    X = X.reshape(n0, -1)\n",
    "    Theta = Theta.reshape(n1, -1)\n",
    "    X_grad = (np.matmul(Theta.T, (np.matmul(Theta, X.T) - Y.T).fillna(0)) + lamb*X.T).T\n",
    "    Theta_grad = (np.matmul(X.T, (np.matmul(Theta, X.T) - Y.T).fillna(0).T) + lamb*Theta.T).T\n",
    "    return np.concatenate([X_grad.ravel(), Theta_grad.ravel()])"
   ]
  },
  {
   "cell_type": "code",
   "execution_count": 35,
   "metadata": {},
   "outputs": [
    {
     "data": {
      "text/plain": [
       "array([ -2.52899165,   7.57570308,  -1.89979026,  -0.56819597,\n",
       "         3.35265031,  -0.52339845,  -0.83240713,   4.91163297,\n",
       "        -0.76677878,  -0.38358278,   2.26333698,  -0.35334048,\n",
       "        -0.80378006,   4.74271842,  -0.74040871, -10.5680202 ,\n",
       "         4.62776019,  -7.16004443,  -3.05099006,   1.16441367,\n",
       "        -3.47410789,   0.        ,   0.        ,   0.        ,\n",
       "         0.        ,   0.        ,   0.        ])"
      ]
     },
     "execution_count": 35,
     "metadata": {},
     "output_type": "execute_result"
    }
   ],
   "source": [
    "cofiGradFunc(params, Y_tmp, num_movies, num_users, num_features, 0)"
   ]
  },
  {
   "cell_type": "code",
   "execution_count": 36,
   "metadata": {},
   "outputs": [
    {
     "data": {
      "text/plain": [
       "31.344056244274213"
      ]
     },
     "execution_count": 36,
     "metadata": {},
     "output_type": "execute_result"
    }
   ],
   "source": [
    "# Expect about 31.34\n",
    "cofiCostFunc(params, Y_tmp, num_movies, num_users, num_features, 1.5)"
   ]
  },
  {
   "cell_type": "code",
   "execution_count": 37,
   "metadata": {},
   "outputs": [],
   "source": [
    "new_user = pd.Series({'Toy Story (1995)': 4.,\n",
    "           'Silence of the Lambs, The (1991)': 2.,\n",
    "           'Twelve Monkeys (1995)': 3.,\n",
    "           'Usual Suspects, The (1995)': 5.,\n",
    "           'Outbreak (1995)': 4.,\n",
    "           'Shawshank Redemption, The (1994)': 5.,\n",
    "           'While You Were Sleeping (1995)': 3.,\n",
    "           'Forrest Gump (1994)': 5.,\n",
    "           'Alien (1979)': 4.,\n",
    "           'Die Hard 2 (1990)': 5.,\n",
    "           'Sphere': 5.})"
   ]
  },
  {
   "cell_type": "code",
   "execution_count": 38,
   "metadata": {},
   "outputs": [
    {
     "data": {
      "text/plain": [
       "Toy Story (1995)                    4.0\n",
       "Silence of the Lambs, The (1991)    2.0\n",
       "Twelve Monkeys (1995)               3.0\n",
       "Usual Suspects, The (1995)          5.0\n",
       "Outbreak (1995)                     4.0\n",
       "Shawshank Redemption, The (1994)    5.0\n",
       "While You Were Sleeping (1995)      3.0\n",
       "Forrest Gump (1994)                 5.0\n",
       "Alien (1979)                        4.0\n",
       "Die Hard 2 (1990)                   5.0\n",
       "Sphere                              5.0\n",
       "dtype: float64"
      ]
     },
     "execution_count": 38,
     "metadata": {},
     "output_type": "execute_result"
    }
   ],
   "source": [
    "new_user"
   ]
  },
  {
   "cell_type": "code",
   "execution_count": 39,
   "metadata": {},
   "outputs": [],
   "source": [
    "Y['me'] = new_user"
   ]
  },
  {
   "cell_type": "code",
   "execution_count": 40,
   "metadata": {},
   "outputs": [],
   "source": [
    "from scipy.optimize import minimize\n",
    "\n",
    "def run_collaborative_filtering(Y, num_features, l):\n",
    "    \n",
    "    # n0 = rows (movies)\n",
    "    # n1 = cols (users)\n",
    "    n0 = Y.shape[0]\n",
    "    n1 = Y.shape[1]\n",
    "    \n",
    "    # Random initilization of parameters, stacked into one flat array\n",
    "    Theta = np.random.randn(n0, num_features)\n",
    "    X = np.random.randn(n1, num_features)\n",
    "    x0 = np.hstack([X.ravel(), Theta.ravel()])\n",
    "    \n",
    "    # Subtract the mean for each movie\n",
    "    Ynorm = Y.sub(Y.mean(axis=1), axis=0)\n",
    "    \n",
    "    minimize_result = minimize(cofiCostFunc, x0, method=\"L-BFGS-B\", \n",
    "                           jac=cofiGradFunc, args=(Ynorm, n0, n1, num_features, l), \n",
    "                           options={\"maxiter\": 1000})\n",
    "    \n",
    "    X, Theta = np.split(minimize_result.x, [n0*num_features])\n",
    "    X = X.reshape(n0, -1)\n",
    "    Theta = Theta.reshape(n1, -1)\n",
    "    \n",
    "    # Create a DataFrame of the predictions; we have to add back the mean\n",
    "    p = pd.DataFrame(np.matmul(X, Theta.T), index=Y.index, columns=Y.columns)\n",
    "    p = p.add(Y.mean(axis=1), axis=0)\n",
    "    return p"
   ]
  },
  {
   "cell_type": "code",
   "execution_count": 41,
   "metadata": {},
   "outputs": [],
   "source": [
    "p = run_collaborative_filtering(Y, 10, 10.)"
   ]
  },
  {
   "cell_type": "markdown",
   "metadata": {},
   "source": [
    "Predictions based on \"my\" ratings."
   ]
  },
  {
   "cell_type": "code",
   "execution_count": 42,
   "metadata": {},
   "outputs": [
    {
     "data": {
      "text/plain": [
       "movie\n",
       "Entertaining Angels: The Dorothy Day Story (1996)         5.000002\n",
       "Prefontaine (1997)                                        5.000002\n",
       "Santa with Muscles (1996)                                 5.000001\n",
       "Saint of Fort Washington, The (1993)                      5.000001\n",
       "Marlene Dietrich: Shadow and Light (1996)                 5.000000\n",
       "Someone Else's America (1995)                             5.000000\n",
       "Great Day in Harlem, A (1994)                             5.000000\n",
       "Star Kid (1997)                                           5.000000\n",
       "Aiqing wansui (1994)                                      4.999999\n",
       "They Made Me a Criminal (1939)                            4.999999\n",
       "Pather Panchali (1955)                                    4.630567\n",
       "Star Wars (1977)                                          4.588330\n",
       "Shawshank Redemption, The (1994)                          4.540853\n",
       "Maya Lin: A Strong Clear Vision (1994)                    4.504387\n",
       "Anna (1996)                                               4.504215\n",
       "Schindler's List (1993)                                   4.499730\n",
       "Some Mother's Son (1996)                                  4.493031\n",
       "Everest (1998)                                            4.491734\n",
       "Wrong Trousers, The (1993)                                4.477238\n",
       "Close Shave, A (1995)                                     4.452564\n",
       "Raiders of the Lost Ark (1981)                            4.440726\n",
       "Casablanca (1942)                                         4.431382\n",
       "Usual Suspects, The (1995)                                4.419190\n",
       "Wallace & Gromit: The Best of Aardman Animation (1996)    4.404221\n",
       "Empire Strikes Back, The (1980)                           4.392889\n",
       "Titanic (1997)                                            4.375378\n",
       "Third Man, The (1949)                                     4.360310\n",
       "Letter From Death Row, A (1998)                           4.334938\n",
       "Bitter Sugar (Azucar Amargo) (1996)                       4.333597\n",
       "Some Folks Call It a Sling Blade (1993)                   4.329618\n",
       "                                                            ...   \n",
       "Vermont Is For Lovers (1992)                              1.000000\n",
       "Quartier Mozart (1992)                                    1.000000\n",
       "JLG/JLG - autoportrait de décembre (1994)                 1.000000\n",
       "Tigrero: A Film That Was Never Made (1994)                1.000000\n",
       "Amityville 1992: It's About Time (1992)                   0.999999\n",
       "Hungarian Fairy Tale, A (1987)                            0.999999\n",
       "New Age, The (1994)                                       0.999999\n",
       "Girl in the Cadillac (1995)                               0.999999\n",
       "Liebelei (1933)                                           0.999999\n",
       "Somebody to Love (1994)                                   0.999999\n",
       "Babyfever (1994)                                          0.999999\n",
       "T-Men (1947)                                              0.999999\n",
       "Baton Rouge (1988)                                        0.999999\n",
       "Careful (1992)                                            0.999998\n",
       "Pharaoh's Army (1995)                                     0.999998\n",
       "Chairman of the Board (1998)                              0.999998\n",
       "Mat' i syn (1997)                                         0.999998\n",
       "Stefano Quantestorie (1993)                               0.999998\n",
       "Man from Down Under, The (1943)                           0.999998\n",
       "Bloody Child, The (1996)                                  0.999998\n",
       "Daens (1992)                                              0.999998\n",
       "Mighty, The (1998)                                        0.999998\n",
       "Crude Oasis, The (1995)                                   0.999997\n",
       "The Courtyard (1995)                                      0.999997\n",
       "To Cross the Rubicon (1991)                               0.999997\n",
       "Mille bolle blu (1993)                                    0.999997\n",
       "Vie est belle, La (Life is Rosey) (1987)                  0.999997\n",
       "Yankee Zulu (1994)                                        0.999997\n",
       "Lotto Land (1995)                                         0.999996\n",
       "Hostile Intentions (1994)                                 0.999995\n",
       "Name: me, Length: 1682, dtype: float64"
      ]
     },
     "execution_count": 42,
     "metadata": {},
     "output_type": "execute_result"
    }
   ],
   "source": [
    "p['me'].sort_values(ascending=False)"
   ]
  }
 ],
 "metadata": {
  "kernelspec": {
   "display_name": "Python 3",
   "language": "python",
   "name": "python3"
  },
  "language_info": {
   "codemirror_mode": {
    "name": "ipython",
    "version": 3
   },
   "file_extension": ".py",
   "mimetype": "text/x-python",
   "name": "python",
   "nbconvert_exporter": "python",
   "pygments_lexer": "ipython3",
   "version": "3.6.6"
  }
 },
 "nbformat": 4,
 "nbformat_minor": 2
}
