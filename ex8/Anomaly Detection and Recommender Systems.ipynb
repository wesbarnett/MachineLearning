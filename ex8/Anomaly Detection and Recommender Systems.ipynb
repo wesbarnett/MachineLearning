{
 "cells": [
  {
   "cell_type": "markdown",
   "metadata": {},
   "source": [
    "# Anomaly Detection and Recommender Systems"
   ]
  },
  {
   "cell_type": "code",
   "execution_count": 1,
   "metadata": {},
   "outputs": [],
   "source": [
    "import matplotlib.pyplot as plt\n",
    "import numpy as np\n",
    "import pandas as pd\n",
    "import scipy.io as sio\n",
    "%matplotlib inline"
   ]
  },
  {
   "cell_type": "markdown",
   "metadata": {},
   "source": [
    "## 1 Anomaly detection"
   ]
  },
  {
   "cell_type": "code",
   "execution_count": 2,
   "metadata": {},
   "outputs": [],
   "source": [
    "df = sio.loadmat('ex8data1.mat')\n",
    "X = df['X']\n",
    "X_val = df['Xval']\n",
    "y_val = df['yval'].ravel()"
   ]
  },
  {
   "cell_type": "code",
   "execution_count": 3,
   "metadata": {},
   "outputs": [
    {
     "data": {
      "image/png": "[encoded data removed]",
      "text/plain": [
       "<Figure size 432x288 with 1 Axes>"
      ]
     },
     "metadata": {},
     "output_type": "display_data"
    }
   ],
   "source": [
    "plt.plot(X[:,0], X[:,1], lw=0, marker='.')\n",
    "plt.xlim([0,30])\n",
    "plt.ylim([0,30])\n",
    "plt.xlabel(\"Latency (ms)\")\n",
    "plt.ylabel(\"Throughput (mb/s)\")\n",
    "plt.show()"
   ]
  },
  {
   "cell_type": "code",
   "execution_count": 4,
   "metadata": {},
   "outputs": [],
   "source": [
    "def estimateGaussian(X):\n",
    "    return np.mean(X, axis=0), np.var(X, axis=0)"
   ]
  },
  {
   "cell_type": "code",
   "execution_count": 5,
   "metadata": {},
   "outputs": [],
   "source": [
    "mu, sigma2 = estimateGaussian(X)"
   ]
  },
  {
   "cell_type": "code",
   "execution_count": 6,
   "metadata": {},
   "outputs": [],
   "source": [
    "from scipy.stats import multivariate_normal"
   ]
  },
  {
   "cell_type": "code",
   "execution_count": 7,
   "metadata": {},
   "outputs": [
    {
     "data": {
      "text/plain": [
       "(307, 2)"
      ]
     },
     "execution_count": 7,
     "metadata": {},
     "output_type": "execute_result"
    }
   ],
   "source": [
    "X.shape"
   ]
  },
  {
   "cell_type": "code",
   "execution_count": 8,
   "metadata": {},
   "outputs": [
    {
     "data": {
      "image/png": "[encoded data removed]",
      "text/plain": [
       "<Figure size 432x288 with 1 Axes>"
      ]
     },
     "metadata": {},
     "output_type": "display_data"
    }
   ],
   "source": [
    "x, y = np.mgrid[0:30:.1, 0:30:.1]\n",
    "pos = np.empty(x.shape + (2,))\n",
    "pos[:, :, 0] = x; pos[:, :, 1] = y\n",
    "rv = multivariate_normal(mu, sigma2)\n",
    "plt.contour(x, y, rv.pdf(pos))\n",
    "plt.plot(X[:,0], X[:,1], lw=0, marker='o', alpha=0.4, markeredgecolor='black')\n",
    "plt.show()"
   ]
  },
  {
   "cell_type": "code",
   "execution_count": 9,
   "metadata": {},
   "outputs": [],
   "source": [
    "p_val = rv.pdf(X_val)"
   ]
  },
  {
   "cell_type": "code",
   "execution_count": 10,
   "metadata": {},
   "outputs": [],
   "source": [
    "def selectThreshold(y_val, p_val):\n",
    "    bestF1 = 0.;\n",
    "    stepsize = (np.max(p_val) - np.min(y_val)) / 1000.0\n",
    "    for epsilon in np.arange(np.min(p_val), np.max(p_val), stepsize):\n",
    "        predictions = p_val < epsilon\n",
    "        tp = np.sum((y_val == 1) & (predictions == 1))\n",
    "        fp = np.sum((y_val == 1) & (predictions == 0))\n",
    "        fn = np.sum((y_val == 0) & (predictions == 1))\n",
    "        precision = tp / (tp + fp)\n",
    "        recall = tp / (tp + fn)\n",
    "        F1 = 2.0 * precision * recall / (precision + recall)\n",
    "        if F1 > bestF1:\n",
    "            bestF1 = F1\n",
    "            bestEpsilon = epsilon\n",
    "        \n",
    "            \n",
    "    return bestEpsilon, bestF1"
   ]
  },
  {
   "cell_type": "code",
   "execution_count": 11,
   "metadata": {},
   "outputs": [
    {
     "name": "stderr",
     "output_type": "stream",
     "text": [
      "/usr/lib/python3.6/site-packages/ipykernel_launcher.py:10: RuntimeWarning: invalid value encountered in long_scalars\n",
      "  # Remove the CWD from sys.path while we load stuff.\n"
     ]
    }
   ],
   "source": [
    "eps, F1 = selectThreshold(y_val, p_val)"
   ]
  },
  {
   "cell_type": "code",
   "execution_count": 12,
   "metadata": {},
   "outputs": [
    {
     "data": {
      "text/plain": [
       "(8.990852779269493e-05, 0.8750000000000001)"
      ]
     },
     "execution_count": 12,
     "metadata": {},
     "output_type": "execute_result"
    }
   ],
   "source": [
    "# expect eps = 8.99e-5, F1 = 0.875\n",
    "eps, F1"
   ]
  },
  {
   "cell_type": "code",
   "execution_count": 13,
   "metadata": {},
   "outputs": [],
   "source": [
    "outliers = np.argwhere(p_val < eps).ravel()"
   ]
  },
  {
   "cell_type": "code",
   "execution_count": 14,
   "metadata": {},
   "outputs": [
    {
     "data": {
      "text/plain": [
       "[<matplotlib.lines.Line2D at 0x7f8df59336d8>]"
      ]
     },
     "execution_count": 14,
     "metadata": {},
     "output_type": "execute_result"
    },
    {
     "data": {
      "image/png": "[encoded data removed]",
      "text/plain": [
       "<Figure size 432x288 with 1 Axes>"
      ]
     },
     "metadata": {},
     "output_type": "display_data"
    }
   ],
   "source": [
    "plt.contour(x, y, rv.pdf(pos))\n",
    "plt.plot(X[:,0], X[:,1], lw=0, marker='o', alpha=0.4, markeredgecolor='black')\n",
    "plt.plot(X[outliers,0], X[outliers,1], marker='o', lw=0, ms=10, color='red')"
   ]
  },
  {
   "cell_type": "code",
   "execution_count": 15,
   "metadata": {},
   "outputs": [],
   "source": [
    "df = sio.loadmat('ex8data2.mat')\n",
    "X = df['X']\n",
    "X_val = df['Xval']\n",
    "y_val = df['yval'].ravel()"
   ]
  },
  {
   "cell_type": "code",
   "execution_count": 16,
   "metadata": {},
   "outputs": [],
   "source": [
    "mu, sigma2 = estimateGaussian(X)"
   ]
  },
  {
   "cell_type": "code",
   "execution_count": 17,
   "metadata": {},
   "outputs": [],
   "source": [
    "p_val = multivariate_normal(mu, sigma2).pdf(X_val)"
   ]
  },
  {
   "cell_type": "code",
   "execution_count": 18,
   "metadata": {},
   "outputs": [
    {
     "name": "stderr",
     "output_type": "stream",
     "text": [
      "/usr/lib/python3.6/site-packages/ipykernel_launcher.py:10: RuntimeWarning: invalid value encountered in long_scalars\n",
      "  # Remove the CWD from sys.path while we load stuff.\n"
     ]
    }
   ],
   "source": [
    "eps, F1 = selectThreshold(y_val, p_val)"
   ]
  },
  {
   "cell_type": "code",
   "execution_count": 19,
   "metadata": {},
   "outputs": [
    {
     "data": {
      "text/plain": [
       "(1.377228890820894e-18, 0.6153846153846154)"
      ]
     },
     "execution_count": 19,
     "metadata": {},
     "output_type": "execute_result"
    }
   ],
   "source": [
    "eps, F1"
   ]
  },
  {
   "cell_type": "code",
   "execution_count": 20,
   "metadata": {},
   "outputs": [
    {
     "name": "stdout",
     "output_type": "stream",
     "text": [
      "Outliers: [16]\n"
     ]
    }
   ],
   "source": [
    "print('Outliers: {0}'.format(np.sum(p_val < eps).ravel()))"
   ]
  },
  {
   "cell_type": "markdown",
   "metadata": {},
   "source": [
    "## 2 Recommender systems\n",
    "\n"
   ]
  },
  {
   "cell_type": "code",
   "execution_count": 21,
   "metadata": {},
   "outputs": [],
   "source": [
    "df = sio.loadmat('ex8_movies.mat')\n",
    "Y = df['Y']\n",
    "R = df['R']"
   ]
  },
  {
   "cell_type": "markdown",
   "metadata": {},
   "source": [
    "Average rating for movie 0 (Toy Story)"
   ]
  },
  {
   "cell_type": "code",
   "execution_count": 22,
   "metadata": {},
   "outputs": [
    {
     "data": {
      "text/plain": [
       "3.8783185840707963"
      ]
     },
     "execution_count": 22,
     "metadata": {},
     "output_type": "execute_result"
    }
   ],
   "source": [
    "np.mean(Y[0,R[0,:].astype('bool')])"
   ]
  },
  {
   "cell_type": "code",
   "execution_count": 23,
   "metadata": {},
   "outputs": [
    {
     "data": {
      "image/png": "[encoded data removed]",
      "text/plain": [
       "<Figure size 432x288 with 1 Axes>"
      ]
     },
     "metadata": {},
     "output_type": "display_data"
    }
   ],
   "source": [
    "plt.imshow(Y, extent=[0, 1, 0, 1])\n",
    "plt.ylabel('Movies')\n",
    "plt.xlabel('Users')\n",
    "plt.show()"
   ]
  },
  {
   "cell_type": "code",
   "execution_count": 24,
   "metadata": {},
   "outputs": [],
   "source": [
    "df = sio.loadmat('ex8_movieParams.mat')\n",
    "X = df['X']\n",
    "Theta = df['Theta']\n",
    "num_users = df['num_users']\n",
    "num_movies = df['num_movies']\n",
    "num_features = df['num_features']"
   ]
  },
  {
   "cell_type": "code",
   "execution_count": 25,
   "metadata": {},
   "outputs": [],
   "source": [
    "def cofiCostFunc(params, Y, R, num_users, num_movies, num_features, lamb):\n",
    "    X = params[:num_movies*num_features].reshape(num_movies, num_features)\n",
    "    Theta = params[num_movies*num_features:].reshape(num_users, num_features)\n",
    "    J = 0.5 * (np.sum(((np.matmul(Theta,X.T)).T - Y)**2 * R) + lamb*np.sum(Theta**2) + lamb*np.sum(X**2))\n",
    "    return J"
   ]
  },
  {
   "cell_type": "code",
   "execution_count": 26,
   "metadata": {},
   "outputs": [],
   "source": [
    "# Data is reduced in the original exercise\n",
    "num_users = 4\n",
    "num_movies = 5\n",
    "num_features = 3\n",
    "X = X[:num_movies,:num_features]\n",
    "Theta = Theta[:num_users,:num_features]\n",
    "Y = Y[:num_movies,:num_users]\n",
    "R = R[:num_movies,:num_users]\n",
    "params = np.concatenate((X.ravel(), Theta.ravel()))"
   ]
  },
  {
   "cell_type": "code",
   "execution_count": 27,
   "metadata": {},
   "outputs": [
    {
     "data": {
      "text/plain": [
       "22.22460372568567"
      ]
     },
     "execution_count": 27,
     "metadata": {},
     "output_type": "execute_result"
    }
   ],
   "source": [
    "# Expect about 22.22\n",
    "cofiCostFunc(params, Y, R, num_users, num_movies, num_features, 0)"
   ]
  },
  {
   "cell_type": "code",
   "execution_count": 28,
   "metadata": {},
   "outputs": [],
   "source": [
    "def cofiGradFunc(params, Y, R, num_users, num_movies, num_features, lamb):\n",
    "    X = params[:num_movies*num_features].reshape(num_movies, num_features)\n",
    "    Theta = params[num_movies*num_features:].reshape(num_users, num_features)\n",
    "    X_grad = np.zeros((X.shape))\n",
    "    Theta_grad = np.zeros((Theta.shape))\n",
    "    for i in range(num_movies):\n",
    "        X_grad[i,:] = np.matmul(Theta.T, ((np.matmul(Theta, X[i,:].T) - Y[i,:].T) * R[i,:].T).T) + lamb*X[i,:].T\n",
    "        \n",
    "    for j in range(num_users):\n",
    "        Theta_grad[j,:] = np.matmul(X.T, ( (np.matmul(Theta[j,:], X.T) - Y[:,j].T) * R[:,j].T).T) + lamb*Theta[j,:].T\n",
    "    \n",
    "    return np.concatenate([X_grad.ravel(), Theta_grad.ravel()])"
   ]
  },
  {
   "cell_type": "code",
   "execution_count": 29,
   "metadata": {},
   "outputs": [
    {
     "data": {
      "text/plain": [
       "array([ -2.52899165,   7.57570308,  -1.89979026,  -0.56819597,\n",
       "         3.35265031,  -0.52339845,  -0.83240713,   4.91163297,\n",
       "        -0.76677878,  -0.38358278,   2.26333698,  -0.35334048,\n",
       "        -0.80378006,   4.74271842,  -0.74040871, -10.5680202 ,\n",
       "         4.62776019,  -7.16004443,  -3.05099006,   1.16441367,\n",
       "        -3.47410789,   0.        ,   0.        ,   0.        ,\n",
       "         0.        ,   0.        ,   0.        ])"
      ]
     },
     "execution_count": 29,
     "metadata": {},
     "output_type": "execute_result"
    }
   ],
   "source": [
    "cofiGradFunc(params, Y, R, num_users, num_movies, num_features, 0)"
   ]
  },
  {
   "cell_type": "code",
   "execution_count": 30,
   "metadata": {},
   "outputs": [
    {
     "data": {
      "text/plain": [
       "31.344056244274213"
      ]
     },
     "execution_count": 30,
     "metadata": {},
     "output_type": "execute_result"
    }
   ],
   "source": [
    "# Expect about 31.34\n",
    "cofiCostFunc(params, Y, R, num_users, num_movies, num_features, 1.5)"
   ]
  },
  {
   "cell_type": "code",
   "execution_count": 31,
   "metadata": {},
   "outputs": [],
   "source": [
    "with open('movie_ids.txt') as f:\n",
    "    movieList = [line.strip('\\n') for line in f.readlines() ]"
   ]
  },
  {
   "cell_type": "code",
   "execution_count": 32,
   "metadata": {},
   "outputs": [],
   "source": [
    "my_ratings = np.zeros(len(movieList))"
   ]
  },
  {
   "cell_type": "code",
   "execution_count": 33,
   "metadata": {},
   "outputs": [],
   "source": [
    "my_ratings[0] = 4.\n",
    "my_ratings[97] = 2.\n",
    "my_ratings[6] = 3.\n",
    "my_ratings[11] = 5.\n",
    "my_ratings[53] = 4.\n",
    "my_ratings[63] = 3.\n",
    "my_ratings[65] = 3.\n",
    "my_ratings[68] = 5.\n",
    "my_ratings[182] = 4.\n",
    "my_ratings[225] = 4.\n",
    "my_ratings[354] = 5."
   ]
  },
  {
   "cell_type": "code",
   "execution_count": 34,
   "metadata": {},
   "outputs": [],
   "source": [
    "df = sio.loadmat('ex8_movies.mat')\n",
    "Y = df['Y']\n",
    "R = df['R']"
   ]
  },
  {
   "cell_type": "code",
   "execution_count": 35,
   "metadata": {},
   "outputs": [],
   "source": [
    "Y = np.hstack([my_ratings.reshape(-1,1), Y])\n",
    "R = np.hstack([(my_ratings != 0).reshape(-1,1), R])"
   ]
  },
  {
   "cell_type": "code",
   "execution_count": 36,
   "metadata": {},
   "outputs": [],
   "source": [
    "Ymean = np.zeros(Y.shape[0])\n",
    "Ynorm = np.zeros(Y.shape)\n",
    "for i in range(Y.shape[0]):\n",
    "    idx = R[i,:] == 1\n",
    "    Ymean[i] = np.mean(Y[i, idx])\n",
    "    Ynorm[i, idx] = Y[i, idx] - Ymean[i]"
   ]
  },
  {
   "cell_type": "code",
   "execution_count": 37,
   "metadata": {},
   "outputs": [],
   "source": [
    "num_users = Y.shape[1]\n",
    "num_movies = Y.shape[0]\n",
    "num_features = 10"
   ]
  },
  {
   "cell_type": "code",
   "execution_count": 38,
   "metadata": {},
   "outputs": [],
   "source": [
    "from scipy.optimize import minimize\n",
    "theta = np.random.randn(num_movies, num_features)\n",
    "X = np.random.randn(num_users, num_features)\n",
    "x0 = np.hstack([X.ravel(), theta.ravel()])\n",
    "l = 10.\n",
    "minimize_result = minimize(cofiCostFunc, x0, method=\"CG\", \n",
    "                           jac=cofiGradFunc, args=(Ynorm, R, num_users, num_movies, num_features, l), \n",
    "                           options={\"maxiter\": 100})"
   ]
  },
  {
   "cell_type": "code",
   "execution_count": 39,
   "metadata": {},
   "outputs": [],
   "source": [
    "X = minimize_result.x[:num_movies*num_features].reshape(num_movies, num_features)\n",
    "Theta = minimize_result.x[num_movies*num_features:].reshape(num_users, num_features)"
   ]
  },
  {
   "cell_type": "code",
   "execution_count": 40,
   "metadata": {},
   "outputs": [],
   "source": [
    "p = np.matmul(X, Theta.T)"
   ]
  },
  {
   "cell_type": "code",
   "execution_count": 41,
   "metadata": {},
   "outputs": [
    {
     "data": {
      "text/plain": [
       "(1682, 944)"
      ]
     },
     "execution_count": 41,
     "metadata": {},
     "output_type": "execute_result"
    }
   ],
   "source": [
    "p.shape"
   ]
  },
  {
   "cell_type": "markdown",
   "metadata": {},
   "source": [
    "My predictions, since my ratings were added to the beginning of the array."
   ]
  },
  {
   "cell_type": "code",
   "execution_count": 42,
   "metadata": {},
   "outputs": [],
   "source": [
    "mypredictions = p[:,0] + Ymean"
   ]
  },
  {
   "cell_type": "code",
   "execution_count": 43,
   "metadata": {},
   "outputs": [
    {
     "name": "stdout",
     "output_type": "stream",
     "text": [
      "5.0 Santa with Muscles (1996)\n",
      "5.0 Entertaining Angels: The Dorothy Day Story (1996)\n",
      "5.0 Someone Else's America (1995)\n",
      "5.0 Aiqing wansui (1994)\n",
      "5.0 Great Day in Harlem, A (1994)\n",
      "5.0 Saint of Fort Washington, The (1993)\n",
      "5.0 They Made Me a Criminal (1939)\n",
      "5.0 Marlene Dietrich: Shadow and Light (1996) \n",
      "5.0 Prefontaine (1997)\n",
      "5.0 Star Kid (1997)\n"
     ]
    }
   ],
   "source": [
    "for i in np.argsort(mypredictions)[::-1][:10]:\n",
    "    print('{0:.1f} {1}'.format(mypredictions[i], movieList[i]))"
   ]
  },
  {
   "cell_type": "code",
   "execution_count": 44,
   "metadata": {},
   "outputs": [
    {
     "name": "stdout",
     "output_type": "stream",
     "text": [
      "4.0 Toy Story (1995)\n",
      "3.0 Twelve Monkeys (1995)\n",
      "5.0 Usual Suspects, The (1995)\n",
      "4.0 Outbreak (1995)\n",
      "3.0 Shawshank Redemption, The (1994)\n",
      "3.0 While You Were Sleeping (1995)\n",
      "5.0 Forrest Gump (1994)\n",
      "2.0 Silence of the Lambs, The (1991)\n",
      "4.0 Alien (1979)\n",
      "4.0 Die Hard 2 (1990)\n",
      "5.0 Sphere (1998)\n"
     ]
    }
   ],
   "source": [
    "for i in range(len(my_ratings)):\n",
    "    if my_ratings[i] > 0:\n",
    "        print(my_ratings[i], movieList[i])"
   ]
  }
 ],
 "metadata": {
  "kernelspec": {
   "display_name": "Python 3",
   "language": "python",
   "name": "python3"
  },
  "language_info": {
   "codemirror_mode": {
    "name": "ipython",
    "version": 3
   },
   "file_extension": ".py",
   "mimetype": "text/x-python",
   "name": "python",
   "nbconvert_exporter": "python",
   "pygments_lexer": "ipython3",
   "version": "3.6.5"
  }
 },
 "nbformat": 4,
 "nbformat_minor": 2
}
